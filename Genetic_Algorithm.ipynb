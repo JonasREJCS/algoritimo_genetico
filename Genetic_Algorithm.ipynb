{
  "nbformat": 4,
  "nbformat_minor": 0,
  "metadata": {
    "colab": {
      "name": "Genetic Algorithm.ipynb",
      "version": "0.3.2",
      "provenance": []
    },
    "language_info": {
      "codemirror_mode": {
        "name": "ipython",
        "version": 3
      },
      "file_extension": ".py",
      "mimetype": "text/x-python",
      "name": "python",
      "nbconvert_exporter": "python",
      "pygments_lexer": "ipython3",
      "version": "3.6.6"
    },
    "kernelspec": {
      "display_name": "Python 3",
      "language": "python",
      "name": "python3"
    }
  },
  "cells": [
    {
      "cell_type": "markdown",
      "metadata": {
        "colab_type": "text",
        "id": "pgcoPFAlbCqF"
      },
      "source": [
        "# Algorítimo Genético - uma introdução"
      ]
    },
    {
      "cell_type": "markdown",
      "metadata": {
        "colab_type": "text",
        "id": "wvTDgE3WbCqG"
      },
      "source": [
        "Olá! Esse notebook será uma introdução do Algorítimo Genético!\n",
        "Como exemplo, vamos fazer um algorítimo genético simples, queremos encontrar 2 números inteiros tais que o quadrado da soma deles seja igual a 49.\n",
        "\n",
        "**(a+b)² = 49**\n",
        "\n",
        "Bom, existem infinitos números que cumprem tal relação. Vamos ver quais o algoritmo consegue encontrar!"
      ]
    },
    {
      "cell_type": "markdown",
      "metadata": {
        "colab_type": "text",
        "id": "t_A3Mq_1bCqH"
      },
      "source": [
        "## População Inicial"
      ]
    },
    {
      "cell_type": "markdown",
      "metadata": {
        "colab_type": "text",
        "id": "RV7KsV5YbCqI"
      },
      "source": [
        "Vamos começar criando a nossa população inicial, lembrando que ela deve ser composta por vetores com dois valores.\n",
        "Abaixo temos a função que cria essa população:"
      ]
    },
    {
      "cell_type": "code",
      "metadata": {
        "colab_type": "code",
        "id": "JJtjXEt6bCqJ",
        "colab": {}
      },
      "source": [
        "import random\n",
        "def populacao_inicial(n):\n",
        "    populacao = []\n",
        "    for i in range(n):\n",
        "        individuo = [random.randrange(-100, 100), random.randrange(-100, 100), None]\n",
        "        # o último elemento é onde vamos armazenar o score do individuo\n",
        "        populacao.append(individuo)\n",
        "    return populacao"
      ],
      "execution_count": 0,
      "outputs": []
    },
    {
      "cell_type": "markdown",
      "metadata": {
        "colab_type": "text",
        "id": "VVWLZTo5bCqN"
      },
      "source": [
        "## Função de decisão"
      ]
    },
    {
      "cell_type": "markdown",
      "metadata": {
        "colab_type": "text",
        "id": "K6ceGVGkbCqO"
      },
      "source": [
        "A nossa função de decisão baseada nos pesos dos indivíduos será puramente a soma deles. Segue a função no código abaixo:"
      ]
    },
    {
      "cell_type": "code",
      "metadata": {
        "colab_type": "code",
        "id": "rmoU3RX5bCqP",
        "colab": {}
      },
      "source": [
        "def decisao(individuo):\n",
        "    acao = individuo[0] + individuo[1]\n",
        "    return acao"
      ],
      "execution_count": 0,
      "outputs": []
    },
    {
      "cell_type": "markdown",
      "metadata": {
        "colab_type": "text",
        "id": "eo4Kmj_0bCqS"
      },
      "source": [
        "## Aplicação no Problema"
      ]
    },
    {
      "cell_type": "markdown",
      "metadata": {
        "colab_type": "text",
        "id": "PksQ_mdSbCqT"
      },
      "source": [
        "Nossa \"ação\", bem simplificada, foi a soma dos pesos, agora aplicaremos ao nosso problema que apenas eleva essa soma ao quadrado."
      ]
    },
    {
      "cell_type": "code",
      "metadata": {
        "colab_type": "code",
        "id": "hgwuRW4tbCqU",
        "colab": {}
      },
      "source": [
        "def aplicacao_no_problema(acao):\n",
        "    resultado= acao**2\n",
        "    return resultado"
      ],
      "execution_count": 0,
      "outputs": []
    },
    {
      "cell_type": "markdown",
      "metadata": {
        "colab_type": "text",
        "id": "sBGxs1SobCqX"
      },
      "source": [
        "## Fitness"
      ]
    },
    {
      "cell_type": "markdown",
      "metadata": {
        "colab_type": "text",
        "id": "VCSnAmFcbCqY"
      },
      "source": [
        "Aqui avaliamos o desempenho da nossa decisão dado o nosso objetivo, chegar o mais perto possivel de 49. O sinal de **menos** está presente para corrigir um detalhe: quanto mais próximo o *score* do indivíduo de 49, menor é a diferença entre esses dois números. Por causa disso, teriamos um problema de minimizar o erro. O sinal de **menos** faz com que nosso problema se inverta e, assim, procuramos maximizar o erro."
      ]
    },
    {
      "cell_type": "code",
      "metadata": {
        "colab_type": "code",
        "id": "u_XvY3G-bCqZ",
        "colab": {}
      },
      "source": [
        "def fitness(resultado):\n",
        "    f = -(resultado - 49)**2\n",
        "    return f"
      ],
      "execution_count": 0,
      "outputs": []
    },
    {
      "cell_type": "markdown",
      "metadata": {
        "colab_type": "text",
        "id": "aIfM-B1ebCqc"
      },
      "source": [
        "## Seleção "
      ]
    },
    {
      "cell_type": "markdown",
      "metadata": {
        "colab_type": "text",
        "id": "BzSm9kjkbCqd"
      },
      "source": [
        "Com os indivíduos com seus respectivos scores, podemos eliminar aqueles que performaram muito mal. Lembrando que nesse caso, queremos que a nossa Fitness seja o mais proxima de zero. Aplicaremos isso diretamente à função main."
      ]
    },
    {
      "cell_type": "markdown",
      "metadata": {
        "colab_type": "text",
        "id": "RidxaJH5bCqe"
      },
      "source": [
        "## Reprodução (crossing over) e Mutação"
      ]
    },
    {
      "cell_type": "markdown",
      "metadata": {
        "colab_type": "text",
        "id": "JDVMcTxIbCqf"
      },
      "source": [
        "Essa é a etapa do Algoritmo que cria novas gerações. Para isso, precisamos fazer duas funções: mutação e reprodução.\n",
        "\n",
        "A mutação vai adicionar números aleatórios nos pesos de um certo indivíduo, com uma probabilidade de 20%.\n",
        "\n",
        "A reprodução vai pegar dois indivíduos (\"papai-vetor\" e \"mamãe-vetora\") para criar uma nova geração com pesos combinados desses dois indivíduos. Note que, para uma maior variabilidade de resultados, esses dois indivíduos devem ser **diferentes**."
      ]
    },
    {
      "cell_type": "code",
      "metadata": {
        "id": "MT4xPCx1EgEU",
        "colab_type": "code",
        "colab": {}
      },
      "source": [
        "def mutacao(individuo):\n",
        "    if random.random() < .2: # 20% de ocorrer mutação no primeiro peso\n",
        "        individuo[0] += random.randrange(-10, 10)\n",
        "    if random.random() < .2: # 20% de ocorrer mutação no segundo peso\n",
        "        individuo[1] += random.randrange(-10, 10)"
      ],
      "execution_count": 0,
      "outputs": []
    },
    {
      "cell_type": "code",
      "metadata": {
        "colab_type": "code",
        "id": "ZDt8VR9IbCqg",
        "colab": {}
      },
      "source": [
        "def reproducao(populacao, numero_de_crias):\n",
        "    for iteracao in range(numero_de_crias):\n",
        "        papai = random.choice(populacao) # Primeiro individuo\n",
        "        mamae = random.choice(populacao) # Segundo individuo\n",
        "        filhote = []\n",
        "        if papai != mamae: # Só cria outro individuo se esses forem diferentes\n",
        "            filhote.append(random.choice(mamae[:2]))\n",
        "            filhote.append(random.choice(papai[:2]))\n",
        "            filhote.append(None) #Aqui guardaremos o fitness\n",
        "            mutacao(filhote)\n",
        "            populacao.append(filhote)\n",
        "    return populacao"
      ],
      "execution_count": 0,
      "outputs": []
    },
    {
      "cell_type": "markdown",
      "metadata": {
        "colab_type": "text",
        "id": "y1SYJCoUbCqk"
      },
      "source": [
        "## O Algorítimo em funcionamento!"
      ]
    },
    {
      "cell_type": "markdown",
      "metadata": {
        "colab_type": "text",
        "id": "ti5ynPT1bCql"
      },
      "source": [
        "Agora que preparamos as funções que vamos precisar, vamos colocar essa belezinha pra rodar e ver no que chegamos!\n",
        "\n",
        "Separamos em duas *cells* a execução do programa. O primeiro encontra as caracteristicas da população (quantos indivíduos, quantos serão selecionados, iterações maxima) e o segundo possui a main do programa."
      ]
    },
    {
      "cell_type": "code",
      "metadata": {
        "id": "Bl1MRYR7X64Z",
        "colab_type": "code",
        "colab": {}
      },
      "source": [
        "tamanho_populacao = 20\n",
        "populacao_selecionada = 15\n",
        "i_max = 400"
      ],
      "execution_count": 0,
      "outputs": []
    },
    {
      "cell_type": "code",
      "metadata": {
        "colab_type": "code",
        "id": "GTZ2j-DNbCqm",
        "outputId": "a1f50bdc-4d09-4b42-afcc-81aa57b7f177",
        "colab": {
          "base_uri": "https://localhost:8080/",
          "height": 34
        }
      },
      "source": [
        "populacao = populacao_inicial(tamanho_populacao) # Cria a população\n",
        "for i in range(i_max):\n",
        "    for individuo in populacao:\n",
        "        decis = decisao(individuo) # Calcula a \"ação\"\n",
        "        resultado = aplicacao_no_problema(decis) # Calcula o resultado da \"ação\"\n",
        "        score = fitness(resultado) # Calcula o score\n",
        "        individuo[2] = score\n",
        "    populacao.sort(key=lambda x: x[2], reverse=True) # Ordena os indivíduos em ordem decrescente de fitness\n",
        "    populacao = populacao[:populacao_selecionada] # Seleciona a população que deseja manter\n",
        "    populacao = reproducao(populacao, tamanho_populacao - populacao_selecionada) # Cria o resto da população\n",
        "print(populacao[0])"
      ],
      "execution_count": 0,
      "outputs": [
        {
          "output_type": "stream",
          "text": [
            "[-31, 38, 0]\n"
          ],
          "name": "stdout"
        }
      ]
    },
    {
      "cell_type": "code",
      "metadata": {
        "colab_type": "code",
        "id": "ftzZovIrba_M",
        "outputId": "eab902d9-24c4-418f-f240-bb7bf34b36f7",
        "colab": {
          "base_uri": "https://localhost:8080/",
          "height": 316
        }
      },
      "source": [
        "populacao # Aqueles que não possuírem score (terceira coluna) são novos individuos que não foram testado. "
      ],
      "execution_count": 0,
      "outputs": [
        {
          "output_type": "execute_result",
          "data": {
            "text/plain": [
              "[[-31, 38, 0],\n",
              " [38, -31, 0],\n",
              " [38, -31, 0],\n",
              " [21, -28, 0],\n",
              " [38, -45, 0],\n",
              " [-31, 38, 0],\n",
              " [38, -31, 0],\n",
              " [-45, 38, 0],\n",
              " [-31, 38, 0],\n",
              " [38, -31, 0],\n",
              " [38, -45, 0],\n",
              " [38, -45, 0],\n",
              " [38, -45, 0],\n",
              " [38, -45, 0],\n",
              " [38, -45, 0],\n",
              " [38, 38, None],\n",
              " [-31, 38, None]]"
            ]
          },
          "metadata": {
            "tags": []
          },
          "execution_count": 11
        }
      ]
    },
    {
      "cell_type": "markdown",
      "metadata": {
        "id": "qryL57oYZ9b-",
        "colab_type": "text"
      },
      "source": [
        "## É isso!\n",
        "\n",
        "Esse notebook acaba aqui. Espero que tenham achado ele esclarecedor e espero que ele ajude nas tarefas do workshop!"
      ]
    },
    {
      "cell_type": "code",
      "metadata": {
        "id": "8t0LZ8EcEgEr",
        "colab_type": "code",
        "colab": {}
      },
      "source": [
        ""
      ],
      "execution_count": 0,
      "outputs": []
    }
  ]
}